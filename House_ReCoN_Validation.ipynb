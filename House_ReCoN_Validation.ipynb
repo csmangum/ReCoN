{
 "cells": [
  {
   "cell_type": "markdown",
   "metadata": {},
   "source": [
    "# ReCoN Synthetic House: Validation Notebook\n",
    "\n",
    "This notebook validates the step-by-step activation and messaging flow for the synthetic house example:\n",
    "- Compile the house graph from YAML\n",
    "- Generate a synthetic house image and compute terminal features\n",
    "- Seed terminal activations and activate the root script\n",
    "- Step the engine and observe requests (SUR), confirmations (SUB), and POR sequencing\n",
    "- Assert that child scripts confirm and the root confirms within a few steps\n",
    "- Visualize the scene and script activations"
   ]
  },
  {
   "cell_type": "code",
   "execution_count": 3,
   "metadata": {},
   "outputs": [],
   "source": [
    "# Imports and setup\n",
    "import os\n",
    "import sys\n",
    "import json\n",
    "import numpy as np\n",
    "import matplotlib.pyplot as plt\n",
    "\n",
    "from recon_core import Engine\n",
    "from recon_core.config import EngineConfig\n",
    "from recon_core.compiler import compile_from_file\n",
    "from recon_core.enums import State, UnitType\n",
    "from perception.dataset import make_house_scene\n",
    "from perception.terminals import terminals_from_image\n",
    "\n",
    "# Utility\n",
    "def summarize_units(g):\n",
    "    return {uid: (u.kind.name, u.state.name, round(u.a, 3)) for uid, u in g.units.items()}"
   ]
  },
  {
   "cell_type": "code",
   "execution_count": 4,
   "metadata": {},
   "outputs": [
    {
     "name": "stdout",
     "output_type": "stream",
     "text": [
      "sys.path updated with /workspace\n"
     ]
    }
   ],
   "source": [
    "# Clean setup cell (robust path) - run this first if imports fail\n",
    "import sys\n",
    "if \"/workspace\" not in sys.path:\n",
    "    sys.path.insert(0, \"/workspace\")\n",
    "print(\"sys.path updated with /workspace\")"
   ]
  },
  {
   "cell_type": "code",
   "execution_count": 7,
   "metadata": {},
   "outputs": [
    {
     "name": "stdout",
     "output_type": "stream",
     "text": [
      "Units: ['u_house', 'u_roof', 't_horz', 'u_body', 't_mean', 'u_door', 't_vert']\n",
      "Out-edges counts: {'u_house': 3, 'u_roof': 3, 't_horz': 1, 'u_body': 3, 't_mean': 2, 'u_door': 3, 't_vert': 1}\n"
     ]
    }
   ],
   "source": [
    "# Compile graph from YAML\n",
    "YAML_PATH = \"scripts/house.yaml\"\n",
    "\n",
    "g = compile_from_file(YAML_PATH)\n",
    "print(\"Units:\", list(g.units.keys()))\n",
    "print(\"Out-edges counts:\", {k: len(v) for k, v in g.out_edges.items()})"
   ]
  },
  {
   "cell_type": "code",
   "execution_count": 8,
   "metadata": {},
   "outputs": [
    {
     "name": "stdout",
     "output_type": "stream",
     "text": [
      "Terminal features: {'t_mean': 0.107, 't_vert': 0.003, 't_horz': 0.005}\n"
     ]
    },
    {
     "data": {
      "image/png": "[encoded data removed]",
      "text/plain": [
       "<Figure size 300x300 with 1 Axes>"
      ]
     },
     "metadata": {},
     "output_type": "display_data"
    }
   ],
   "source": [
    "# Generate synthetic house image and compute terminal features\n",
    "img = make_house_scene(size=64, noise=0.0)\n",
    "terms = terminals_from_image(img)\n",
    "print(\"Terminal features:\", {k: round(v, 3) for k, v in terms.items()})\n",
    "\n",
    "# Plot the scene\n",
    "plt.figure(figsize=(3,3))\n",
    "plt.imshow(img, cmap='gray')\n",
    "plt.axis('off')\n",
    "plt.title('Synthetic House Scene')\n",
    "plt.show()"
   ]
  },
  {
   "cell_type": "code",
   "execution_count": 9,
   "metadata": {},
   "outputs": [
    {
     "name": "stdout",
     "output_type": "stream",
     "text": [
      "Initial summary:\n",
      "{\n",
      "  \"u_house\": [\n",
      "    \"SCRIPT\",\n",
      "    \"ACTIVE\",\n",
      "    1.0\n",
      "  ],\n",
      "  \"u_roof\": [\n",
      "    \"SCRIPT\",\n",
      "    \"INACTIVE\",\n",
      "    0.0\n",
      "  ],\n",
      "  \"t_horz\": [\n",
      "    \"TERMINAL\",\n",
      "    \"INACTIVE\",\n",
      "    0.005\n",
      "  ],\n",
      "  \"u_body\": [\n",
      "    \"SCRIPT\",\n",
      "    \"INACTIVE\",\n",
      "    0.0\n",
      "  ],\n",
      "  \"t_mean\": [\n",
      "    \"TERMINAL\",\n",
      "    \"REQUESTED\",\n",
      "    0.107\n",
      "  ],\n",
      "  \"u_door\": [\n",
      "    \"SCRIPT\",\n",
      "    \"INACTIVE\",\n",
      "    0.0\n",
      "  ],\n",
      "  \"t_vert\": [\n",
      "    \"TERMINAL\",\n",
      "    \"INACTIVE\",\n",
      "    0.003\n",
      "  ]\n",
      "}\n"
     ]
    }
   ],
   "source": [
    "# Seed terminal activations into graph and activate root script\n",
    "for tid in [\"t_mean\", \"t_vert\", \"t_horz\"]:\n",
    "    if tid in g.units:\n",
    "        g.units[tid].a = float(terms.get(tid, 0.0))\n",
    "        # Optional: mark requested if somewhat active (mirrors demo app seeding)\n",
    "        g.units[tid].state = State.REQUESTED if g.units[tid].a > 0.1 else State.INACTIVE\n",
    "        # Keep default terminal threshold (0.5)\n",
    "\n",
    "# Activate the root script\n",
    "root_id = 'u_house'\n",
    "assert root_id in g.units, \"Root unit u_house not found\"\n",
    "g.units[root_id].a = 1.0\n",
    "g.units[root_id].state = State.ACTIVE\n",
    "\n",
    "# Create engine\n",
    "cfg = EngineConfig(deterministic_order=True)\n",
    "engine = Engine(g, config=cfg)\n",
    "print(\"Initial summary:\")\n",
    "print(json.dumps(summarize_units(g), indent=2))"
   ]
  },
  {
   "cell_type": "code",
   "execution_count": 10,
   "metadata": {},
   "outputs": [
    {
     "name": "stdout",
     "output_type": "stream",
     "text": [
      "t=1: {'u_house': ('ACTIVE', 1.0), 'u_roof': ('ACTIVE', 0.24), 'u_body': ('ACTIVE', 0.24), 'u_door': ('ACTIVE', 0.24)}\n",
      "t=2: {'u_house': ('ACTIVE', 1.0), 'u_roof': ('ACTIVE', 0.88), 'u_body': ('ACTIVE', 0.88), 'u_door': ('ACTIVE', 1.0)}\n",
      "t=3: {'u_house': ('CONFIRMED', 1.0), 'u_roof': ('CONFIRMED', 1.0), 'u_body': ('CONFIRMED', 1.0), 'u_door': ('CONFIRMED', 1.0)}\n",
      "t=4: {'u_house': ('CONFIRMED', 1.0), 'u_roof': ('CONFIRMED', 1.0), 'u_body': ('CONFIRMED', 1.0), 'u_door': ('CONFIRMED', 1.0)}\n",
      "t=5: {'u_house': ('CONFIRMED', 1.0), 'u_roof': ('CONFIRMED', 1.0), 'u_body': ('CONFIRMED', 1.0), 'u_door': ('CONFIRMED', 1.0)}\n",
      "t=6: {'u_house': ('CONFIRMED', 1.0), 'u_roof': ('CONFIRMED', 1.0), 'u_body': ('CONFIRMED', 1.0), 'u_door': ('CONFIRMED', 1.0)}\n",
      "t=7: {'u_house': ('CONFIRMED', 1.0), 'u_roof': ('CONFIRMED', 1.0), 'u_body': ('CONFIRMED', 1.0), 'u_door': ('CONFIRMED', 1.0)}\n",
      "t=8: {'u_house': ('CONFIRMED', 1.0), 'u_roof': ('CONFIRMED', 1.0), 'u_body': ('CONFIRMED', 1.0), 'u_door': ('CONFIRMED', 1.0)}\n",
      "\n",
      "Stats:\n",
      "{\n",
      "  \"terminal_request_count\": 4,\n",
      "  \"terminal_request_counts_by_id\": {\n",
      "    \"t_horz\": 1,\n",
      "    \"t_vert\": 1,\n",
      "    \"t_mean\": 2\n",
      "  },\n",
      "  \"first_request_step\": {\n",
      "    \"u_roof\": 0,\n",
      "    \"u_door\": 0,\n",
      "    \"u_body\": 0\n",
      "  },\n",
      "  \"first_active_step\": {\n",
      "    \"u_roof\": 0,\n",
      "    \"u_door\": 0,\n",
      "    \"u_body\": 0\n",
      "  },\n",
      "  \"first_true_step\": {\n",
      "    \"t_vert\": 1,\n",
      "    \"t_mean\": 1,\n",
      "    \"t_horz\": 1\n",
      "  },\n",
      "  \"first_confirm_step\": {\n",
      "    \"u_roof\": 2,\n",
      "    \"u_house\": 2,\n",
      "    \"u_door\": 2,\n",
      "    \"u_body\": 2\n",
      "  }\n",
      "}\n"
     ]
    }
   ],
   "source": [
    "# Step the engine and collect snapshots\n",
    "snapshots = []\n",
    "max_steps = 8\n",
    "for step in range(max_steps):\n",
    "    snap = engine.step(1)\n",
    "    snapshots.append(snap)\n",
    "    # Compact timeline printout for scripts\n",
    "    scripts = [uid for uid, u in g.units.items() if u.kind == UnitType.SCRIPT]\n",
    "    print(f\"t={snap['t']}:\", {uid: (g.units[uid].state.name, round(g.units[uid].a,2)) for uid in scripts})\n",
    "\n",
    "print(\"\\nStats:\")\n",
    "print(json.dumps(snapshots[-1][\"stats\"], indent=2))"
   ]
  },
  {
   "cell_type": "code",
   "execution_count": 11,
   "metadata": {},
   "outputs": [
    {
     "name": "stdout",
     "output_type": "stream",
     "text": [
      "All validation checks passed.\n"
     ]
    }
   ],
   "source": [
    "# Assertions: child scripts and root should confirm within a few steps\n",
    "stats = snapshots[-1]['stats']\n",
    "first_conf = stats.get('first_confirm_step', {})\n",
    "\n",
    "required_scripts = ['u_roof', 'u_body', 'u_door', 'u_house']\n",
    "for rid in required_scripts:\n",
    "    assert rid in first_conf, f\"{rid} did not confirm\"\n",
    "    assert first_conf[rid] <= max_steps, f\"{rid} confirmed too late: {first_conf[rid]}\"\n",
    "\n",
    "# Basic POR ordering expectation: roof no later than body, body no later than door\n",
    "assert first_conf['u_roof'] <= first_conf['u_body'] + 1e-9\n",
    "assert first_conf['u_body'] <= first_conf['u_door'] + 1e-9\n",
    "\n",
    "# Ensure terminals were requested (SUR count > 0)\n",
    "assert stats.get('terminal_request_count', 0) > 0, \"No SUR requests to terminals were recorded\"\n",
    "\n",
    "print(\"All validation checks passed.\")"
   ]
  },
  {
   "cell_type": "code",
   "execution_count": 12,
   "metadata": {},
   "outputs": [
    {
     "data": {
      "image/png": "[encoded data removed]",
      "text/plain": [
       "<Figure size 600x400 with 1 Axes>"
      ]
     },
     "metadata": {},
     "output_type": "display_data"
    }
   ],
   "source": [
    "# Visualize script activations over time\n",
    "script_ids = ['u_house', 'u_roof', 'u_body', 'u_door']\n",
    "acts = {sid: [] for sid in script_ids}\n",
    "for snap in snapshots:\n",
    "    for sid in script_ids:\n",
    "        acts[sid].append(g.units[sid].a)\n",
    "\n",
    "plt.figure(figsize=(6,4))\n",
    "for sid, series in acts.items():\n",
    "    plt.plot(range(len(series)), series, label=sid)\n",
    "plt.xlabel('Step index (0-based)')\n",
    "plt.ylabel('Activation')\n",
    "plt.title('Script Activations Over Time')\n",
    "plt.ylim(0, 1.05)\n",
    "plt.legend()\n",
    "plt.grid(True, alpha=0.3)\n",
    "plt.show()"
   ]
  },
  {
   "cell_type": "markdown",
   "metadata": {},
   "source": [
    "## Results\n",
    "\n",
    "- Child scripts receive SUR requests, terminals receive SUR and send CONFIRM when above threshold.\n",
    "- `u_roof`, `u_body`, and `u_door` become `CONFIRMED`, then `u_house` becomes `CONFIRMED`.\n",
    "- POR influences ordering (roof → body → door) as reflected by confirmation timing.\n",
    "- The stats block shows `terminal_request_count` and first-step timings for `REQUESTED`, `ACTIVE`, `TRUE`, and `CONFIRMED` events."
   ]
  },
  {
   "cell_type": "markdown",
   "metadata": {},
   "source": []
  }
 ],
 "metadata": {
  "kernelspec": {
   "display_name": ".venv",
   "language": "python",
   "name": "python3"
  },
  "language_info": {
   "codemirror_mode": {
    "name": "ipython",
    "version": 3
   },
   "file_extension": ".py",
   "mimetype": "text/x-python",
   "name": "python",
   "nbconvert_exporter": "python",
   "pygments_lexer": "ipython3",
   "version": "3.13.5"
  }
 },
 "nbformat": 4,
 "nbformat_minor": 4
}
